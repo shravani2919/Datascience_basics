{
 "cells": [
  {
   "cell_type": "code",
   "execution_count": 1,
   "id": "14a4af38",
   "metadata": {},
   "outputs": [
    {
     "name": "stdout",
     "output_type": "stream",
     "text": [
      "\u001b[31mERROR: Could not find a version that satisfies the requirement matplotlib.pyplot (from versions: none)\u001b[0m\u001b[31m\n",
      "\u001b[0m\u001b[31mERROR: No matching distribution found for matplotlib.pyplot\u001b[0m\u001b[31m\n",
      "\u001b[0mNote: you may need to restart the kernel to use updated packages.\n"
     ]
    }
   ],
   "source": [
    "pip install matplotlib.pyplot \n"
   ]
  },
  {
   "cell_type": "code",
   "execution_count": null,
   "id": "2e33a3f4",
   "metadata": {},
   "outputs": [],
   "source": [
    "pip uninstall numpy"
   ]
  },
  {
   "cell_type": "code",
   "execution_count": null,
   "id": "8056d15c",
   "metadata": {},
   "outputs": [],
   "source": [
    "pip install numpy\n"
   ]
  },
  {
   "cell_type": "code",
   "execution_count": null,
   "id": "f79f9386",
   "metadata": {},
   "outputs": [],
   "source": [
    "pip install --upgrade matplotlib seaborn\n"
   ]
  },
  {
   "cell_type": "code",
   "execution_count": null,
   "id": "35a55cf1",
   "metadata": {},
   "outputs": [],
   "source": [
    "%matplotlib inline"
   ]
  },
  {
   "cell_type": "code",
   "execution_count": null,
   "id": "b295f845",
   "metadata": {},
   "outputs": [],
   "source": [
    "import matplotlib.pyplot as plt"
   ]
  },
  {
   "cell_type": "code",
   "execution_count": null,
   "id": "c2935a7b",
   "metadata": {},
   "outputs": [],
   "source": [
    "# Example plot\n",
    "plt.plot([1, 2, 3, 4], [10, 20, 25, 30])\n",
    "plt.xlabel('Numbers1')\n",
    "plt.ylabel('Numbers')\n",
    "plt.show()\n",
    "\n"
   ]
  },
  {
   "cell_type": "code",
   "execution_count": null,
   "id": "e2d48f07",
   "metadata": {},
   "outputs": [],
   "source": [
    "import numpy as np\n",
    "x = np.linspace(0,5,11)\n",
    "y = x**2\n"
   ]
  },
  {
   "cell_type": "code",
   "execution_count": null,
   "id": "dbcbf039",
   "metadata": {},
   "outputs": [],
   "source": [
    "x"
   ]
  },
  {
   "cell_type": "code",
   "execution_count": null,
   "id": "f5f61899",
   "metadata": {},
   "outputs": [],
   "source": [
    "y"
   ]
  },
  {
   "cell_type": "code",
   "execution_count": null,
   "id": "f65aecb9",
   "metadata": {},
   "outputs": [],
   "source": [
    "plt.plot(x,y)\n",
    "plt.xlabel('x Label')\n",
    "plt.ylabel('Y Label')\n",
    "plt.title('Title')\n",
    "plt.show()"
   ]
  },
  {
   "cell_type": "markdown",
   "id": "3c2cf412",
   "metadata": {},
   "source": [
    "# subplot"
   ]
  },
  {
   "cell_type": "code",
   "execution_count": null,
   "id": "2370fb19",
   "metadata": {},
   "outputs": [],
   "source": [
    "plt.subplot(1, 2,1)\n",
    "plt.plot(x,y,'r') # r is the colour red\n",
    "\n",
    "plt.subplot(1, 2,2)\n",
    "plt.plot(x,y,'b') # b is the colour blue\n"
   ]
  },
  {
   "cell_type": "code",
   "execution_count": null,
   "id": "6234be56",
   "metadata": {},
   "outputs": [],
   "source": [
    "fig,axes = plt.subplots()\n",
    "axes.plot(x, y)"
   ]
  },
  {
   "cell_type": "code",
   "execution_count": null,
   "id": "0f11e911",
   "metadata": {},
   "outputs": [],
   "source": [
    "fig,axes = plt.subplots(nrows = 1, ncols = 3)"
   ]
  },
  {
   "cell_type": "code",
   "execution_count": null,
   "id": "71447745",
   "metadata": {},
   "outputs": [],
   "source": [
    "fig = plt.subplots(nrows = 2, ncols = 3) # we do have overlaps so use below command to fix that"
   ]
  },
  {
   "cell_type": "code",
   "execution_count": null,
   "id": "980b7d78",
   "metadata": {},
   "outputs": [],
   "source": [
    "fig = plt.subplots(nrows = 2, ncols = 3)\n",
    "plt.tight_layout()\n",
    "# no overlapes is seen"
   ]
  },
  {
   "cell_type": "markdown",
   "id": "6a640214",
   "metadata": {},
   "source": [
    "# Figure size and DPI (PIXELS PER INCH)\n",
    "\n"
   ]
  },
  {
   "cell_type": "code",
   "execution_count": null,
   "id": "eb1d3945",
   "metadata": {},
   "outputs": [],
   "source": [
    "fig = plt.figure(figsize = (3, 2)) # we are not having the axes\n",
    "ax = fig.add_axes([0,0,1,1])  # just added Axes now we need to plot\n",
    "\n",
    "ax.plot(x,y)"
   ]
  },
  {
   "cell_type": "code",
   "execution_count": null,
   "id": "47099eb3",
   "metadata": {},
   "outputs": [],
   "source": [
    "# same thing with subplots\n",
    "fig, axes = plt.subplots(nrows = 2, ncols = 1, figsize= (8,2))  # we gave axes and size of the plot\n",
    "#axes.plot(x,y) # just plot using the x and y values\n",
    "axes[0].plot(x,y)\n",
    "\n",
    "axes[1].plot(y,x)\n",
    "\n",
    "plt.tight_layout()\n",
    "\n"
   ]
  },
  {
   "cell_type": "code",
   "execution_count": null,
   "id": "a3ad09a7",
   "metadata": {},
   "outputs": [],
   "source": [
    "# how  save the plot\n",
    "fig.savefig('my_Picture',dpi = 200)\n"
   ]
  },
  {
   "cell_type": "markdown",
   "id": "81bbdfd7",
   "metadata": {},
   "source": [
    "# line and marker"
   ]
  },
  {
   "cell_type": "code",
   "execution_count": null,
   "id": "7b5da97b",
   "metadata": {},
   "outputs": [],
   "source": [
    "# legends\n",
    "fig = plt.figure() # we are not having the axes\n",
    "ax = fig.add_axes([0,0,1,1])  # just added Axes now we need to plot\n",
    "ax.plot(x, x**2, label = 'Xsqu', color= 'red', marker = 'o', markersize = 10,\n",
    "       markerfacecolor = 'yellow', markeredgewidth=3, markeredgecolor='green')\n",
    "ax.plot(x, x**3, label = 'Xcube', color= 'purple', linewidth =4, linestyle  = '-.')\n",
    "ax.legend(loc = 'upper right')\n",
    "#linewidth or lw and linestyle  or ls"
   ]
  },
  {
   "cell_type": "markdown",
   "id": "3f63477a",
   "metadata": {},
   "source": [
    "# control over axis appearance( control the axis size)\n"
   ]
  },
  {
   "cell_type": "code",
   "execution_count": null,
   "id": "4ef2c628",
   "metadata": {},
   "outputs": [],
   "source": []
  },
  {
   "cell_type": "code",
   "execution_count": null,
   "id": "69c69c40",
   "metadata": {},
   "outputs": [],
   "source": []
  },
  {
   "cell_type": "code",
   "execution_count": null,
   "id": "cf436b6a",
   "metadata": {},
   "outputs": [],
   "source": []
  },
  {
   "cell_type": "code",
   "execution_count": null,
   "id": "0985076e",
   "metadata": {},
   "outputs": [],
   "source": []
  },
  {
   "cell_type": "code",
   "execution_count": null,
   "id": "d2ec0369",
   "metadata": {},
   "outputs": [],
   "source": []
  },
  {
   "cell_type": "markdown",
   "id": "d4070a38",
   "metadata": {},
   "source": [
    "# plot Appearance"
   ]
  },
  {
   "cell_type": "code",
   "execution_count": null,
   "id": "79fb6930",
   "metadata": {},
   "outputs": [],
   "source": []
  },
  {
   "cell_type": "code",
   "execution_count": null,
   "id": "2f11f7ff",
   "metadata": {},
   "outputs": [],
   "source": []
  },
  {
   "cell_type": "markdown",
   "id": "12ec873b",
   "metadata": {},
   "source": [
    "# Execrises"
   ]
  },
  {
   "cell_type": "code",
   "execution_count": null,
   "id": "25069373",
   "metadata": {},
   "outputs": [],
   "source": [
    "fig = plt.figure()\n",
    "ax = fig.add_axes([0,0,1,1])\n",
    "ax.plot(x,y)\n",
    "ax.set_xlabel('x')\n",
    "ax.set_ylabel('y')\n"
   ]
  },
  {
   "cell_type": "markdown",
   "id": "3f7b40a2",
   "metadata": {},
   "source": [
    "# Seaborn"
   ]
  },
  {
   "cell_type": "code",
   "execution_count": null,
   "id": "e52cbeac",
   "metadata": {},
   "outputs": [],
   "source": [
    "pip install seaborn"
   ]
  },
  {
   "cell_type": "code",
   "execution_count": null,
   "id": "4c4d5b05",
   "metadata": {},
   "outputs": [],
   "source": [
    "%matplotlin inline\n",
    "# we can see the vizualization inside the jupyter notebook\n"
   ]
  },
  {
   "cell_type": "code",
   "execution_count": null,
   "id": "61bd6018",
   "metadata": {},
   "outputs": [],
   "source": [
    "import seaborn as sns"
   ]
  },
  {
   "cell_type": "code",
   "execution_count": null,
   "id": "2b808bf7",
   "metadata": {},
   "outputs": [],
   "source": [
    "tips = sns.load_dataset('Salaries.csv')"
   ]
  },
  {
   "cell_type": "code",
   "execution_count": null,
   "id": "ea99af9c",
   "metadata": {},
   "outputs": [],
   "source": [
    "tips\n",
    "\n"
   ]
  },
  {
   "cell_type": "code",
   "execution_count": null,
   "id": "2eddf338",
   "metadata": {},
   "outputs": [],
   "source": []
  },
  {
   "cell_type": "code",
   "execution_count": null,
   "id": "7a65ff76",
   "metadata": {},
   "outputs": [],
   "source": []
  },
  {
   "cell_type": "code",
   "execution_count": null,
   "id": "7c4fca13",
   "metadata": {},
   "outputs": [],
   "source": []
  },
  {
   "cell_type": "code",
   "execution_count": null,
   "id": "622ffcf6",
   "metadata": {},
   "outputs": [],
   "source": []
  },
  {
   "cell_type": "code",
   "execution_count": null,
   "id": "1c550e9e",
   "metadata": {},
   "outputs": [],
   "source": []
  },
  {
   "cell_type": "code",
   "execution_count": null,
   "id": "f39a4aa8",
   "metadata": {},
   "outputs": [],
   "source": []
  },
  {
   "cell_type": "code",
   "execution_count": null,
   "id": "52500879",
   "metadata": {},
   "outputs": [],
   "source": []
  }
 ],
 "metadata": {
  "kernelspec": {
   "display_name": "Python 3 (ipykernel)",
   "language": "python",
   "name": "python3"
  },
  "language_info": {
   "codemirror_mode": {
    "name": "ipython",
    "version": 3
   },
   "file_extension": ".py",
   "mimetype": "text/x-python",
   "name": "python",
   "nbconvert_exporter": "python",
   "pygments_lexer": "ipython3",
   "version": "3.9.12"
  }
 },
 "nbformat": 4,
 "nbformat_minor": 5
}
